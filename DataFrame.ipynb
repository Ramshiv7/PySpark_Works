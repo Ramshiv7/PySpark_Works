{
 "cells": [
  {
   "cell_type": "code",
   "execution_count": 1,
   "metadata": {},
   "outputs": [],
   "source": [
    "import pyspark"
   ]
  },
  {
   "cell_type": "code",
   "execution_count": null,
   "metadata": {},
   "outputs": [],
   "source": [
    "from pyspark.sql import SparkSession\n",
    "from pyspark.sql import * \n",
    "spark = SparkSession.builder.appName('DataFrames').getOrCreate()\n",
    "\n",
    "student = Row('id', 'name', 'dept')\n",
    "s1 = student(1, 'john', 'cse')\n",
    "s2 = student(2, 'dave', 'it')\n",
    "\n",
    "std_data = [s1, s2]\n",
    "\n",
    "df = spark.createDataFrame(std_data)\n",
    "df.show()\n",
    "df.describe().show(2,truncate=False, vertical=False) # to show full content\n"
   ]
  },
  {
   "cell_type": "code",
   "execution_count": 21,
   "metadata": {},
   "outputs": [
    {
     "name": "stdout",
     "output_type": "stream",
     "text": [
      "+-------+---+----+----+\n",
      "|summary|id |name|dept|\n",
      "+-------+---+----+----+\n",
      "|count  |2  |2   |2   |\n",
      "|mean   |1.5|null|null|\n",
      "+-------+---+----+----+\n",
      "only showing top 2 rows\n",
      "\n"
     ]
    }
   ],
   "source": [
    "from pyspark.sql.types import StructType,StructField, StringType, IntegerType\n",
    "\n",
    "schema = StructType([StructField('firstname', StringType(), True)])\n"
   ]
  },
  {
   "cell_type": "code",
   "execution_count": null,
   "metadata": {},
   "outputs": [],
   "source": []
  }
 ],
 "metadata": {
  "kernelspec": {
   "display_name": "base",
   "language": "python",
   "name": "python3"
  },
  "language_info": {
   "codemirror_mode": {
    "name": "ipython",
    "version": 3
   },
   "file_extension": ".py",
   "mimetype": "text/x-python",
   "name": "python",
   "nbconvert_exporter": "python",
   "pygments_lexer": "ipython3",
   "version": "3.11.3"
  },
  "orig_nbformat": 4
 },
 "nbformat": 4,
 "nbformat_minor": 2
}
